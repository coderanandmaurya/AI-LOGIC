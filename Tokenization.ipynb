{
  "nbformat": 4,
  "nbformat_minor": 0,
  "metadata": {
    "colab": {
      "name": "Tokenization.ipynb",
      "provenance": [],
      "collapsed_sections": [],
      "authorship_tag": "ABX9TyMUUcBS0TuJjHvr5ubNk2Ze",
      "include_colab_link": true
    },
    "kernelspec": {
      "name": "python3",
      "display_name": "Python 3"
    },
    "language_info": {
      "name": "python"
    }
  },
  "cells": [
    {
      "cell_type": "markdown",
      "metadata": {
        "id": "view-in-github",
        "colab_type": "text"
      },
      "source": [
        "<a href=\"https://colab.research.google.com/github/coderanandmaurya/AI-LOGIC/blob/main/Tokenization.ipynb\" target=\"_parent\"><img src=\"https://colab.research.google.com/assets/colab-badge.svg\" alt=\"Open In Colab\"/></a>"
      ]
    },
    {
      "cell_type": "markdown",
      "metadata": {
        "id": "qeZvvqgN2blA"
      },
      "source": [
        "# Tokenization= to separate each word form sentence "
      ]
    },
    {
      "cell_type": "code",
      "metadata": {
        "colab": {
          "base_uri": "https://localhost:8080/"
        },
        "id": "OMT7WYyb2OTI",
        "outputId": "2d97ee59-b048-420c-99b7-1b10256c5b16"
      },
      "source": [
        "TEXT=\"\"\" today is a lab class for tokenizing the thing, we r doing the practical in lab\"\"\"\n",
        "TEXT.split()"
      ],
      "execution_count": null,
      "outputs": [
        {
          "output_type": "execute_result",
          "data": {
            "text/plain": [
              "['today',\n",
              " 'is',\n",
              " 'a',\n",
              " 'lab',\n",
              " 'class',\n",
              " 'for',\n",
              " 'tokenizing',\n",
              " 'the',\n",
              " 'thing,',\n",
              " 'we',\n",
              " 'r',\n",
              " 'doing',\n",
              " 'the',\n",
              " 'practical',\n",
              " 'in',\n",
              " 'lab']"
            ]
          },
          "metadata": {},
          "execution_count": 1
        }
      ]
    },
    {
      "cell_type": "code",
      "metadata": {
        "colab": {
          "base_uri": "https://localhost:8080/"
        },
        "id": "wve8gjiS279y",
        "outputId": "5a44f863-c424-48fd-eadf-040be2e35607"
      },
      "source": [
        "pip install nltk"
      ],
      "execution_count": null,
      "outputs": [
        {
          "output_type": "stream",
          "name": "stdout",
          "text": [
            "Requirement already satisfied: nltk in /usr/local/lib/python3.7/dist-packages (3.2.5)\n",
            "Requirement already satisfied: six in /usr/local/lib/python3.7/dist-packages (from nltk) (1.15.0)\n"
          ]
        }
      ]
    },
    {
      "cell_type": "code",
      "metadata": {
        "id": "CCrKFmo03SVQ"
      },
      "source": [
        "import nltk"
      ],
      "execution_count": null,
      "outputs": []
    },
    {
      "cell_type": "code",
      "metadata": {
        "id": "aTEhOkKZ3fFv"
      },
      "source": [
        "TEXT=\"\"\" today's is a lab: class for, tokenizing the thing, , we r doing the practical in lab\"\"\""
      ],
      "execution_count": null,
      "outputs": []
    },
    {
      "cell_type": "code",
      "metadata": {
        "colab": {
          "base_uri": "https://localhost:8080/"
        },
        "id": "E7SmLcpt3yLQ",
        "outputId": "24711ae1-1771-430a-9020-3228cca66cb4"
      },
      "source": [
        "nltk.download('punkt')"
      ],
      "execution_count": null,
      "outputs": [
        {
          "output_type": "stream",
          "name": "stdout",
          "text": [
            "[nltk_data] Downloading package punkt to /root/nltk_data...\n",
            "[nltk_data]   Package punkt is already up-to-date!\n"
          ]
        },
        {
          "output_type": "execute_result",
          "data": {
            "text/plain": [
              "True"
            ]
          },
          "metadata": {},
          "execution_count": 7
        }
      ]
    },
    {
      "cell_type": "code",
      "metadata": {
        "id": "iMGijjQd3_hS"
      },
      "source": [
        "tokens = nltk.word_tokenize(TEXT)"
      ],
      "execution_count": null,
      "outputs": []
    },
    {
      "cell_type": "code",
      "metadata": {
        "colab": {
          "base_uri": "https://localhost:8080/"
        },
        "id": "OARjKjys4FQQ",
        "outputId": "c6976bd2-6780-4cd4-f5d9-cfc1fa6458fa"
      },
      "source": [
        "print(tokens)"
      ],
      "execution_count": null,
      "outputs": [
        {
          "output_type": "stream",
          "name": "stdout",
          "text": [
            "['today', \"'s\", 'is', 'a', 'lab', ':', 'class', 'for', ',', 'tokenizing', 'the', 'thing', ',', ',', 'we', 'r', 'doing', 'the', 'practical', 'in', 'lab']\n"
          ]
        }
      ]
    },
    {
      "cell_type": "code",
      "metadata": {
        "id": "RW7m6Lr44MUP"
      },
      "source": [
        "import pandas as pd\n",
        "from sklearn.feature_extraction.text import CountVectorizer"
      ],
      "execution_count": null,
      "outputs": []
    },
    {
      "cell_type": "code",
      "metadata": {
        "id": "nXxWfrRV4cjQ"
      },
      "source": [
        "texts = [ \n",
        "\"\"\"Here’s to the crazy ones, the misfits, the rebels, the  troublemakers, the round pegs in the square holes. The ones who see  things differently — they’re not fond of rules. You can quote them,  disagree with them, glorify or vilify them, but the only thing you  can’t do is ignore them because they change things. They push the  human race forward, and while some may see them as the crazy ones,  we see genius, because the ones who are crazy enough to think that  they can change the world, are the ones who do.\"\"\" , \n",
        "'I choose a lazy person to do a hard job. Because a lazy person  will find an easy way to do it.' \n",
        "]\n",
        "\n",
        "df = pd.DataFrame({'author': ['jobs', 'gates'], 'text':texts}) "
      ],
      "execution_count": null,
      "outputs": []
    },
    {
      "cell_type": "code",
      "metadata": {
        "colab": {
          "base_uri": "https://localhost:8080/",
          "height": 112
        },
        "id": "vRlIta_14vgh",
        "outputId": "1369470b-dbc4-4859-a781-b659e78dbb41"
      },
      "source": [
        "df"
      ],
      "execution_count": null,
      "outputs": [
        {
          "output_type": "execute_result",
          "data": {
            "text/html": [
              "<div>\n",
              "<style scoped>\n",
              "    .dataframe tbody tr th:only-of-type {\n",
              "        vertical-align: middle;\n",
              "    }\n",
              "\n",
              "    .dataframe tbody tr th {\n",
              "        vertical-align: top;\n",
              "    }\n",
              "\n",
              "    .dataframe thead th {\n",
              "        text-align: right;\n",
              "    }\n",
              "</style>\n",
              "<table border=\"1\" class=\"dataframe\">\n",
              "  <thead>\n",
              "    <tr style=\"text-align: right;\">\n",
              "      <th></th>\n",
              "      <th>author</th>\n",
              "      <th>text</th>\n",
              "    </tr>\n",
              "  </thead>\n",
              "  <tbody>\n",
              "    <tr>\n",
              "      <th>0</th>\n",
              "      <td>jobs</td>\n",
              "      <td>Here’s to the crazy ones, the misfits, the reb...</td>\n",
              "    </tr>\n",
              "    <tr>\n",
              "      <th>1</th>\n",
              "      <td>gates</td>\n",
              "      <td>I choose a lazy person to do a hard job. Becau...</td>\n",
              "    </tr>\n",
              "  </tbody>\n",
              "</table>\n",
              "</div>"
            ],
            "text/plain": [
              "  author                                               text\n",
              "0   jobs  Here’s to the crazy ones, the misfits, the reb...\n",
              "1  gates  I choose a lazy person to do a hard job. Becau..."
            ]
          },
          "metadata": {},
          "execution_count": 18
        }
      ]
    },
    {
      "cell_type": "code",
      "metadata": {
        "colab": {
          "base_uri": "https://localhost:8080/"
        },
        "id": "2E7V0gzw4zH_",
        "outputId": "78887140-ce7b-458d-f9fb-e4f6a1c7ad16"
      },
      "source": [
        "# Create a Vectorizer Object\n",
        "vectorizer = CountVectorizer()\n",
        "  \n",
        "vectorizer.fit(texts)"
      ],
      "execution_count": null,
      "outputs": [
        {
          "output_type": "execute_result",
          "data": {
            "text/plain": [
              "CountVectorizer()"
            ]
          },
          "metadata": {},
          "execution_count": 26
        }
      ]
    },
    {
      "cell_type": "code",
      "metadata": {
        "colab": {
          "base_uri": "https://localhost:8080/"
        },
        "id": "RqnHi00A5DlP",
        "outputId": "1c96e290-5046-4b86-bfbd-d4afd00ac4cd"
      },
      "source": [
        "# Printing the identified Unique words along with their indices\n",
        "print(\"Vocabulary: \", vectorizer.vocabulary_)"
      ],
      "execution_count": null,
      "outputs": [
        {
          "output_type": "stream",
          "name": "stdout",
          "text": [
            "Vocabulary:  {'here': 21, 'to': 56, 'the': 50, 'crazy': 9, 'ones': 34, 'misfits': 31, 'rebels': 43, 'troublemakers': 57, 'round': 44, 'pegs': 37, 'in': 25, 'square': 48, 'holes': 22, 'who': 62, 'see': 46, 'things': 54, 'differently': 10, 'they': 52, 're': 42, 'not': 32, 'fond': 16, 'of': 33, 'rules': 45, 'you': 66, 'can': 6, 'quote': 40, 'them': 51, 'disagree': 11, 'with': 64, 'glorify': 19, 'or': 36, 'vilify': 58, 'but': 5, 'only': 35, 'thing': 53, 'do': 12, 'is': 26, 'ignore': 24, 'because': 4, 'change': 7, 'push': 39, 'human': 23, 'race': 41, 'forward': 17, 'and': 1, 'while': 61, 'some': 47, 'may': 30, 'as': 3, 'we': 60, 'genius': 18, 'are': 2, 'enough': 14, 'think': 55, 'that': 49, 'world': 65, 'choose': 8, 'lazy': 29, 'person': 38, 'hard': 20, 'job': 28, 'will': 63, 'find': 15, 'an': 0, 'easy': 13, 'way': 59, 'it': 27}\n"
          ]
        }
      ]
    },
    {
      "cell_type": "code",
      "metadata": {
        "id": "-r5VK6D56tIP"
      },
      "source": [
        "# Encode the Document\n",
        "vector = vectorizer.transform(texts)"
      ],
      "execution_count": null,
      "outputs": []
    },
    {
      "cell_type": "code",
      "metadata": {
        "colab": {
          "base_uri": "https://localhost:8080/"
        },
        "id": "5PuwF34Y6xpQ",
        "outputId": "fc1d1b50-5b3a-4ff4-a1ca-390980547abf"
      },
      "source": [
        "# Summarizing the Encoded Texts\n",
        "print(\"Encoded Document is:\")\n",
        "print(vector.toarray())"
      ],
      "execution_count": null,
      "outputs": [
        {
          "output_type": "stream",
          "name": "stdout",
          "text": [
            "Encoded Document is:\n",
            "[[ 0  1  2  1  2  1  3  2  0  3  1  1  2  0  1  0  1  1  1  1  0  1  1  1\n",
            "   1  1  1  0  0  0  1  1  1  1  5  1  1  1  0  1  1  1  1  1  1  1  3  1\n",
            "   1  1 13  5  4  1  2  1  2  1  1  0  1  1  3  0  1  1  2]\n",
            " [ 1  0  0  0  1  0  0  0  1  0  0  0  2  1  0  1  0  0  0  0  1  0  0  0\n",
            "   0  0  0  1  1  2  0  0  0  0  0  0  0  0  2  0  0  0  0  0  0  0  0  0\n",
            "   0  0  0  0  0  0  0  0  2  0  0  1  0  0  0  1  0  0  0]]\n"
          ]
        }
      ]
    },
    {
      "cell_type": "code",
      "metadata": {
        "colab": {
          "base_uri": "https://localhost:8080/",
          "height": 183
        },
        "id": "61HU_F0E63f7",
        "outputId": "4bc1601f-0b1f-4511-ac3f-80f247f44f14"
      },
      "source": [
        "import spacy\n",
        "spacy.lang.es"
      ],
      "execution_count": null,
      "outputs": [
        {
          "output_type": "error",
          "ename": "AttributeError",
          "evalue": "ignored",
          "traceback": [
            "\u001b[0;31m---------------------------------------------------------------------------\u001b[0m",
            "\u001b[0;31mAttributeError\u001b[0m                            Traceback (most recent call last)",
            "\u001b[0;32m<ipython-input-32-31993a0d6bcf>\u001b[0m in \u001b[0;36m<module>\u001b[0;34m()\u001b[0m\n\u001b[1;32m      1\u001b[0m \u001b[0;32mimport\u001b[0m \u001b[0mspacy\u001b[0m\u001b[0;34m\u001b[0m\u001b[0;34m\u001b[0m\u001b[0m\n\u001b[0;32m----> 2\u001b[0;31m \u001b[0mspacy\u001b[0m\u001b[0;34m.\u001b[0m\u001b[0mlang\u001b[0m\u001b[0;34m.\u001b[0m\u001b[0mes\u001b[0m\u001b[0;34m\u001b[0m\u001b[0;34m\u001b[0m\u001b[0m\n\u001b[0m",
            "\u001b[0;31mAttributeError\u001b[0m: module 'spacy.lang' has no attribute 'es'"
          ]
        }
      ]
    },
    {
      "cell_type": "code",
      "metadata": {
        "id": "TlmN1apc7iiQ"
      },
      "source": [
        ""
      ],
      "execution_count": null,
      "outputs": []
    }
  ]
}