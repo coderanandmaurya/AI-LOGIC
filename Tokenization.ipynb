{
  "nbformat": 4,
  "nbformat_minor": 0,
  "metadata": {
    "colab": {
      "name": "Tokenization.ipynb",
      "provenance": [],
      "collapsed_sections": [],
      "authorship_tag": "ABX9TyPoFV6nfCUAGKVn/zBSKPVM",
      "include_colab_link": true
    },
    "kernelspec": {
      "name": "python3",
      "display_name": "Python 3"
    },
    "language_info": {
      "name": "python"
    }
  },
  "cells": [
    {
      "cell_type": "markdown",
      "metadata": {
        "id": "view-in-github",
        "colab_type": "text"
      },
      "source": [
        "<a href=\"https://colab.research.google.com/github/coderanandmaurya/AI-LOGIC/blob/main/Tokenization.ipynb\" target=\"_parent\"><img src=\"https://colab.research.google.com/assets/colab-badge.svg\" alt=\"Open In Colab\"/></a>"
      ]
    },
    {
      "cell_type": "markdown",
      "metadata": {
        "id": "qeZvvqgN2blA"
      },
      "source": [
        "##Line Tokenization"
      ]
    },
    {
      "cell_type": "code",
      "metadata": {
        "colab": {
          "base_uri": "https://localhost:8080/"
        },
        "id": "OMT7WYyb2OTI",
        "outputId": "03a3d837-a8d2-4df6-d736-7e3ed03c515c"
      },
      "source": [
        "import nltk\n",
        "Madara_Uchiha = \"When a man learns to love, he must bear the risk of hatred\"\n",
        "nltk_tokens = nltk.sent_tokenize(Madara_Uchiha)\n",
        "print (nltk_tokens)"
      ],
      "execution_count": 21,
      "outputs": [
        {
          "output_type": "stream",
          "name": "stdout",
          "text": [
            "['When a man learns to love, he must bear the risk of hatred']\n"
          ]
        }
      ]
    },
    {
      "cell_type": "markdown",
      "source": [
        "## Word Tokenzitaion"
      ],
      "metadata": {
        "id": "lCUlnYyx9M6y"
      }
    },
    {
      "cell_type": "code",
      "source": [
        "nltk_tokens = nltk.word_tokenize(Madara_Uchiha)\n",
        "print (nltk_tokens)"
      ],
      "metadata": {
        "id": "SVhUtZ3h9MRq",
        "outputId": "25914fc6-d09e-4dcf-e603-d97827196599",
        "colab": {
          "base_uri": "https://localhost:8080/"
        }
      },
      "execution_count": 31,
      "outputs": [
        {
          "output_type": "stream",
          "name": "stdout",
          "text": [
            "['When', 'a', 'man', 'learns', 'to', 'love', ',', 'he', 'must', 'bear', 'the', 'risk', 'of', 'hatred']\n"
          ]
        }
      ]
    },
    {
      "cell_type": "markdown",
      "source": [
        "## Non-English Tokenization"
      ],
      "metadata": {
        "id": "KozBfndx9F9j"
      }
    },
    {
      "cell_type": "code",
      "metadata": {
        "id": "wve8gjiS279y"
      },
      "source": [
        "#pip install inltk"
      ],
      "execution_count": 32,
      "outputs": []
    },
    {
      "cell_type": "code",
      "source": [
        "from inltk.inltk import tokenize\n",
        "hindi_text = \"\"\"प्राचीन काल में विक्रमादित्य नाम के एक आदर्श राजा हुआ करते थे।\"\"\"\n",
        "# tokenize(input text, language code)\n",
        "tokenize(hindi_text, \"hi\")"
      ],
      "metadata": {
        "id": "6D54aEckAQck",
        "outputId": "cbc1d775-30e6-4a1f-d7b6-77e044a3080a",
        "colab": {
          "base_uri": "https://localhost:8080/"
        }
      },
      "execution_count": 28,
      "outputs": [
        {
          "output_type": "execute_result",
          "data": {
            "text/plain": [
              "['▁प्राचीन',\n",
              " '▁काल',\n",
              " '▁में',\n",
              " '▁विक्रमादित्य',\n",
              " '▁नाम',\n",
              " '▁के',\n",
              " '▁एक',\n",
              " '▁आदर्श',\n",
              " '▁राजा',\n",
              " '▁हुआ',\n",
              " '▁करते',\n",
              " '▁थे',\n",
              " '।']"
            ]
          },
          "metadata": {},
          "execution_count": 28
        }
      ]
    }
  ]
}