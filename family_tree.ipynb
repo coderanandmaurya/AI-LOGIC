{
  "nbformat": 4,
  "nbformat_minor": 0,
  "metadata": {
    "colab": {
      "name": "family_tree.ipynb",
      "provenance": [],
      "authorship_tag": "ABX9TyPPcFF+o8YrfQJYlPgUlr5U",
      "include_colab_link": true
    },
    "kernelspec": {
      "name": "python3",
      "display_name": "Python 3"
    },
    "language_info": {
      "name": "python"
    }
  },
  "cells": [
    {
      "cell_type": "markdown",
      "metadata": {
        "id": "view-in-github",
        "colab_type": "text"
      },
      "source": [
        "<a href=\"https://colab.research.google.com/github/coderanandmaurya/AI-LOGIC/blob/main/family_tree.ipynb\" target=\"_parent\"><img src=\"https://colab.research.google.com/assets/colab-badge.svg\" alt=\"Open In Colab\"/></a>"
      ]
    },
    {
      "cell_type": "code",
      "metadata": {
        "colab": {
          "base_uri": "https://localhost:8080/"
        },
        "id": "ab1Dt7Fy2u51",
        "outputId": "8b956a69-a1e5-4a8d-c240-bcc703d29a98"
      },
      "source": [
        "pip install 'git+https://github.com/MHordecki/LogPy#egg=logPy'\n"
      ],
      "execution_count": 4,
      "outputs": [
        {
          "output_type": "stream",
          "name": "stdout",
          "text": [
            "Collecting logPy\n",
            "  Cloning https://github.com/MHordecki/LogPy to /tmp/pip-install-jd0jlc6z/logpy_067b7742471845378b1074d280b3a891\n",
            "  Running command git clone -q https://github.com/MHordecki/LogPy /tmp/pip-install-jd0jlc6z/logpy_067b7742471845378b1074d280b3a891\n",
            "Building wheels for collected packages: logPy\n",
            "  Building wheel for logPy (setup.py) ... \u001b[?25l\u001b[?25hdone\n",
            "  Created wheel for logPy: filename=LogPy-1.0.1-py3-none-any.whl size=4687 sha256=1750dfc5acf14118b2ccd7f54855652e6a27ba07862224861e0a44b06d0162de\n",
            "  Stored in directory: /tmp/pip-ephem-wheel-cache-ifjxe4f8/wheels/51/4b/6c/6b71671057d63f6acadb92124d3a5856b77b6f8233450c88bd\n",
            "Successfully built logPy\n",
            "Installing collected packages: logPy\n",
            "Successfully installed logPy-1.0.1\n"
          ]
        }
      ]
    },
    {
      "cell_type": "code",
      "metadata": {
        "id": "MLQjX1-g3Ft_"
      },
      "source": [
        "import logpy"
      ],
      "execution_count": 5,
      "outputs": []
    }
  ]
}