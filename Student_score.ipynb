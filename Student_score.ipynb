{
  "nbformat": 4,
  "nbformat_minor": 0,
  "metadata": {
    "colab": {
      "name": "Student score.ipynb",
      "provenance": [],
      "collapsed_sections": [],
      "authorship_tag": "ABX9TyPfohmcS0V53CSpbJHj1+Tx",
      "include_colab_link": true
    },
    "kernelspec": {
      "name": "python3",
      "display_name": "Python 3"
    },
    "language_info": {
      "name": "python"
    }
  },
  "cells": [
    {
      "cell_type": "markdown",
      "metadata": {
        "id": "view-in-github",
        "colab_type": "text"
      },
      "source": [
        "<a href=\"https://colab.research.google.com/github/coderanandmaurya/AI-LOGIC/blob/main/Student_score.ipynb\" target=\"_parent\"><img src=\"https://colab.research.google.com/assets/colab-badge.svg\" alt=\"Open In Colab\"/></a>"
      ]
    },
    {
      "cell_type": "code",
      "metadata": {
        "id": "rG_xTTJcN7C-"
      },
      "source": [
        "#pip install pyDatalog"
      ],
      "execution_count": 55,
      "outputs": []
    },
    {
      "cell_type": "code",
      "metadata": {
        "id": "sXWCj_3POm_6"
      },
      "source": [
        "from pyDatalog import pyDatalog "
      ],
      "execution_count": 25,
      "outputs": []
    },
    {
      "cell_type": "code",
      "metadata": {
        "id": "wG8cgwr4OyYh"
      },
      "source": [
        "pyDatalog.create_terms(\"X,Y,Z,Ram,Ravi,Tarun,Priya,Marks,Passed,Failed,grades\")"
      ],
      "execution_count": 26,
      "outputs": []
    },
    {
      "cell_type": "code",
      "metadata": {
        "id": "ougj8LM4PJKu"
      },
      "source": [
        "+Marks(\"Ram\",\"40\") #create Knowledge Base or known as fact"
      ],
      "execution_count": 27,
      "outputs": []
    },
    {
      "cell_type": "code",
      "metadata": {
        "id": "xnQwLoZLPW_J"
      },
      "source": [
        "+Marks(\"Ravi\",\"30\")"
      ],
      "execution_count": 28,
      "outputs": []
    },
    {
      "cell_type": "code",
      "metadata": {
        "id": "tnVb8FDRPkrE"
      },
      "source": [
        "+Marks(\"Raju\",\"76\")"
      ],
      "execution_count": 29,
      "outputs": []
    },
    {
      "cell_type": "code",
      "metadata": {
        "id": "SiudCK1APndl"
      },
      "source": [
        "+Marks(\"Tarun\",\"20\")"
      ],
      "execution_count": 30,
      "outputs": []
    },
    {
      "cell_type": "code",
      "metadata": {
        "id": "Rjv4Q4kVPq9h"
      },
      "source": [
        "+Marks(\"Priya\",\"90\")"
      ],
      "execution_count": 31,
      "outputs": []
    },
    {
      "cell_type": "code",
      "metadata": {
        "id": "xDV0MSWCPt6i"
      },
      "source": [
        "+grades(\"Ravi\",\"F\")"
      ],
      "execution_count": 32,
      "outputs": []
    },
    {
      "cell_type": "code",
      "metadata": {
        "id": "GR7BuI8OP13M"
      },
      "source": [
        "+grades(\"Tarun\",\"F\")"
      ],
      "execution_count": 33,
      "outputs": []
    },
    {
      "cell_type": "code",
      "metadata": {
        "id": "ipvT_bxvP5y4"
      },
      "source": [
        "+grades(\"Ram\",\"P\")"
      ],
      "execution_count": 34,
      "outputs": []
    },
    {
      "cell_type": "code",
      "metadata": {
        "id": "SlyUgfqXP9w3"
      },
      "source": [
        "+grades(\"Raju\",\"P\")"
      ],
      "execution_count": 35,
      "outputs": []
    },
    {
      "cell_type": "code",
      "metadata": {
        "id": "RMdsCHj1QB5q"
      },
      "source": [
        "+grades(\"Priya\",\"P\")"
      ],
      "execution_count": 36,
      "outputs": []
    },
    {
      "cell_type": "code",
      "metadata": {
        "colab": {
          "base_uri": "https://localhost:8080/"
        },
        "id": "Z1ZZGg_dQD3F",
        "outputId": "ea481201-9f08-4fb5-8744-667810f72360"
      },
      "source": [
        "Failed(X) <= grades(X,\"F\") #Ruled for faied students"
      ],
      "execution_count": 37,
      "outputs": [
        {
          "output_type": "execute_result",
          "data": {
            "text/plain": [
              "Failed(X) <= grades(X,'F')"
            ]
          },
          "metadata": {},
          "execution_count": 37
        }
      ]
    },
    {
      "cell_type": "code",
      "metadata": {
        "colab": {
          "base_uri": "https://localhost:8080/"
        },
        "id": "G6QvFUCNQTYA",
        "outputId": "b75a691a-e833-4235-8e4c-834794f22461"
      },
      "source": [
        "Passed(X) <= grades(X,\"P\") #Ruled for faied students"
      ],
      "execution_count": 38,
      "outputs": [
        {
          "output_type": "execute_result",
          "data": {
            "text/plain": [
              "Passed(X) <= grades(X,'P')"
            ]
          },
          "metadata": {},
          "execution_count": 38
        }
      ]
    },
    {
      "cell_type": "code",
      "metadata": {
        "colab": {
          "base_uri": "https://localhost:8080/"
        },
        "id": "6KwcOcjQQoPh",
        "outputId": "55c13351-003b-4a01-d223-61b2ccbe111d"
      },
      "source": [
        "print(Marks(X,Y)) #List student with Marks"
      ],
      "execution_count": 40,
      "outputs": [
        {
          "output_type": "stream",
          "name": "stdout",
          "text": [
            "X     | Y \n",
            "------|---\n",
            "Priya | 90\n",
            "Tarun | 20\n",
            "Raju  | 76\n",
            "Ravi  | 30\n",
            "Ram   | 40\n",
            "ram   | 40\n"
          ]
        }
      ]
    },
    {
      "cell_type": "code",
      "metadata": {
        "colab": {
          "base_uri": "https://localhost:8080/"
        },
        "id": "xVN4zsKYQzbB",
        "outputId": "18c41071-cd02-4569-e7af-12f43cd453f3"
      },
      "source": [
        "print(Marks(X,\"90\")) #student with 90 Marks"
      ],
      "execution_count": 43,
      "outputs": [
        {
          "output_type": "stream",
          "name": "stdout",
          "text": [
            "X    \n",
            "-----\n",
            "Priya\n"
          ]
        }
      ]
    },
    {
      "cell_type": "code",
      "metadata": {
        "colab": {
          "base_uri": "https://localhost:8080/"
        },
        "id": "ZumPx4DdRVa0",
        "outputId": "0aac4985-a63b-4483-f88f-30197584007d"
      },
      "source": [
        "print(Marks(\"Ram\",Y)) #Ram with Y Marks"
      ],
      "execution_count": 44,
      "outputs": [
        {
          "output_type": "stream",
          "name": "stdout",
          "text": [
            "Y \n",
            "--\n",
            "40\n"
          ]
        }
      ]
    },
    {
      "cell_type": "code",
      "metadata": {
        "colab": {
          "base_uri": "https://localhost:8080/"
        },
        "id": "sLfV1uznRnji",
        "outputId": "e1a02e35-9a33-470b-e92b-1e2f57f6d9fc"
      },
      "source": [
        "print(grades(X,Y)) #student with Grades"
      ],
      "execution_count": 46,
      "outputs": [
        {
          "output_type": "stream",
          "name": "stdout",
          "text": [
            "X     | Y\n",
            "------|--\n",
            "Priya | P\n",
            "Raju  | P\n",
            "Ram   | P\n",
            "Tarun | F\n",
            "Ravi  | F\n"
          ]
        }
      ]
    },
    {
      "cell_type": "code",
      "metadata": {
        "colab": {
          "base_uri": "https://localhost:8080/"
        },
        "id": "_nTJp1W_Rx3J",
        "outputId": "353b7e63-7600-46aa-87cc-adc9dfe071f1"
      },
      "source": [
        "print(Failed(X)) #list of failed student "
      ],
      "execution_count": 48,
      "outputs": [
        {
          "output_type": "stream",
          "name": "stdout",
          "text": [
            "X    \n",
            "-----\n",
            "Tarun\n",
            "Ravi \n"
          ]
        }
      ]
    },
    {
      "cell_type": "code",
      "metadata": {
        "colab": {
          "base_uri": "https://localhost:8080/"
        },
        "id": "zNWfR0AmR9n2",
        "outputId": "cde91a54-8a4e-4aff-f073-eef3a5b31a77"
      },
      "source": [
        "print(Passed(X)) #list of Passed student "
      ],
      "execution_count": 50,
      "outputs": [
        {
          "output_type": "stream",
          "name": "stdout",
          "text": [
            "X    \n",
            "-----\n",
            "Ram  \n",
            "Priya\n",
            "Raju \n"
          ]
        }
      ]
    },
    {
      "cell_type": "code",
      "metadata": {
        "id": "JHiHnkYYSIKm"
      },
      "source": [
        ""
      ],
      "execution_count": null,
      "outputs": []
    }
  ]
}