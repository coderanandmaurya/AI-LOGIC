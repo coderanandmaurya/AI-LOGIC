{
  "nbformat": 4,
  "nbformat_minor": 0,
  "metadata": {
    "colab": {
      "name": "Prime-number-logic.ipynb",
      "provenance": [],
      "authorship_tag": "ABX9TyNYdNF+CCytkUzfCImfECXD",
      "include_colab_link": true
    },
    "kernelspec": {
      "name": "python3",
      "display_name": "Python 3"
    },
    "language_info": {
      "name": "python"
    }
  },
  "cells": [
    {
      "cell_type": "markdown",
      "metadata": {
        "id": "view-in-github",
        "colab_type": "text"
      },
      "source": [
        "<a href=\"https://colab.research.google.com/github/coderanandmaurya/AI-LOGIC/blob/main/Prime_number_logic.ipynb\" target=\"_parent\"><img src=\"https://colab.research.google.com/assets/colab-badge.svg\" alt=\"Open In Colab\"/></a>"
      ]
    },
    {
      "cell_type": "code",
      "execution_count": 1,
      "metadata": {
        "colab": {
          "base_uri": "https://localhost:8080/"
        },
        "id": "djTGFrPxYOVs",
        "outputId": "8a0cc79e-c7d6-439b-c869-aac6f5b5bfba"
      },
      "outputs": [
        {
          "output_type": "stream",
          "name": "stdout",
          "text": [
            "Enter an input number:14\n",
            "14 is not a prime number\n"
          ]
        }
      ],
      "source": [
        "# A default function for Prime checking conditions  \n",
        "def PrimeChecker(a):  \n",
        "    # Checking that given number is more than 1  \n",
        "    if a > 1:  \n",
        "        # Iterating over the given number with for loop  \n",
        "        for j in range(2, int(a/2) + 1):  \n",
        "            # If the given number is divisible or not  \n",
        "            if (a % j) == 0:  \n",
        "                print(a, \"is not a prime number\")  \n",
        "                break  \n",
        "        # Else it is a prime number  \n",
        "        else:  \n",
        "            print(a, \"is a prime number\")  \n",
        "    # If the given number is 1  \n",
        "    else:  \n",
        "        print(a, \"is not a prime number\")  \n",
        "# Taking an input number from the user  \n",
        "a = int(input(\"Enter an input number:\"))  \n",
        "# Printing result  \n",
        "PrimeChecker(a)  "
      ]
    }
  ]
}