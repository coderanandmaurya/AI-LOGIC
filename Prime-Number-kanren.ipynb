{
  "nbformat": 4,
  "nbformat_minor": 0,
  "metadata": {
    "colab": {
      "name": "Untitled9.ipynb",
      "provenance": [],
      "authorship_tag": "ABX9TyOZZkVMz8qIq/JAKztRpHIy",
      "include_colab_link": true
    },
    "kernelspec": {
      "name": "python3",
      "display_name": "Python 3"
    },
    "language_info": {
      "name": "python"
    }
  },
  "cells": [
    {
      "cell_type": "markdown",
      "metadata": {
        "id": "view-in-github",
        "colab_type": "text"
      },
      "source": [
        "<a href=\"https://colab.research.google.com/github/coderanandmaurya/AI-LOGIC/blob/main/Prime-Number-kanren.ipynb\" target=\"_parent\"><img src=\"https://colab.research.google.com/assets/colab-badge.svg\" alt=\"Open In Colab\"/></a>"
      ]
    },
    {
      "cell_type": "code",
      "execution_count": 22,
      "metadata": {
        "id": "ycMuN7LBW1dg"
      },
      "outputs": [],
      "source": [
        "from kanren import isvar,run,membero\n",
        "from kanren import isvar,run,membero\n",
        "from kanren.core import success,fail,goaleval,condeseq,eq,var\n",
        "from sympy.ntheory.generate import prime,isprime\n",
        "import itertools as it"
      ]
    },
    {
      "cell_type": "code",
      "source": [
        "def prime_test(n): #Function to test for prime\n",
        "  if isvar(n):\n",
        "    return condeseq([(eq,n,p)] for p in map(prime,it.count(1)))\n",
        "  else:\n",
        "    return success if isprime(n) else fail"
      ],
      "metadata": {
        "id": "NSm6bjyQZhpz"
      },
      "execution_count": 23,
      "outputs": []
    },
    {
      "cell_type": "code",
      "source": [
        "n=var() #Variable to use\n",
        "set(run(0,n,(membero,n,(12,14,15,19,21,20,22,29,23,30,41,44,62,52,65,85)),(prime_test,n)))"
      ],
      "metadata": {
        "colab": {
          "base_uri": "https://localhost:8080/"
        },
        "id": "fa6zlf9ZXKWj",
        "outputId": "c9864f0b-4da2-410b-f5a4-f6a843be7cfa"
      },
      "execution_count": 24,
      "outputs": [
        {
          "output_type": "execute_result",
          "data": {
            "text/plain": [
              "{19, 23, 29, 41}"
            ]
          },
          "metadata": {},
          "execution_count": 24
        }
      ]
    }
  ]
}