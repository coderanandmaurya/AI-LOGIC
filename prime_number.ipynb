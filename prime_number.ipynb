{
  "nbformat": 4,
  "nbformat_minor": 0,
  "metadata": {
    "colab": {
      "name": "prime_number.ipynb",
      "provenance": [],
      "authorship_tag": "ABX9TyM07Wk5IcGM5dwUfQpsp94L",
      "include_colab_link": true
    },
    "kernelspec": {
      "name": "python3",
      "display_name": "Python 3"
    },
    "language_info": {
      "name": "python"
    }
  },
  "cells": [
    {
      "cell_type": "markdown",
      "metadata": {
        "id": "view-in-github",
        "colab_type": "text"
      },
      "source": [
        "<a href=\"https://colab.research.google.com/github/coderanandmaurya/AI-LOGIC/blob/main/prime_number.ipynb\" target=\"_parent\"><img src=\"https://colab.research.google.com/assets/colab-badge.svg\" alt=\"Open In Colab\"/></a>"
      ]
    },
    {
      "cell_type": "code",
      "metadata": {
        "id": "Q1ASQxwsQhfG"
      },
      "source": [
        "# Library functions for prime\n",
        "import sympy"
      ],
      "execution_count": 9,
      "outputs": []
    },
    {
      "cell_type": "code",
      "source": [
        "print(sympy.isprime(5))                       "
      ],
      "metadata": {
        "id": "Z9XEAF9SugW6",
        "outputId": "45ee308e-9ca8-4057-a2aa-3139a831793b",
        "colab": {
          "base_uri": "https://localhost:8080/"
        }
      },
      "execution_count": 10,
      "outputs": [
        {
          "output_type": "stream",
          "name": "stdout",
          "text": [
            "True\n"
          ]
        }
      ]
    },
    {
      "cell_type": "code",
      "source": [
        "print(sympy.nextprime(50))      "
      ],
      "metadata": {
        "id": "HZ34JWdrz3H0",
        "outputId": "f9289d70-e8a2-4f9d-f376-bdd8ca5854a9",
        "colab": {
          "base_uri": "https://localhost:8080/"
        }
      },
      "execution_count": 11,
      "outputs": [
        {
          "output_type": "stream",
          "name": "stdout",
          "text": [
            "53\n"
          ]
        }
      ]
    },
    {
      "cell_type": "code",
      "source": [
        "print(sympy.prevprime(50))    "
      ],
      "metadata": {
        "id": "3R3VsC8uz1rU",
        "outputId": "2cfbb7f6-41ec-421c-a64a-123c370d8b76",
        "colab": {
          "base_uri": "https://localhost:8080/"
        }
      },
      "execution_count": 12,
      "outputs": [
        {
          "output_type": "stream",
          "name": "stdout",
          "text": [
            "47\n"
          ]
        }
      ]
    },
    {
      "cell_type": "code",
      "source": [
        "print(sympy.prime(3))         "
      ],
      "metadata": {
        "id": "Cy6n4hqIzz2s",
        "outputId": "33375ad1-2d84-467d-faad-49ac4eeca524",
        "colab": {
          "base_uri": "https://localhost:8080/"
        }
      },
      "execution_count": 13,
      "outputs": [
        {
          "output_type": "stream",
          "name": "stdout",
          "text": [
            "5\n"
          ]
        }
      ]
    },
    {
      "cell_type": "code",
      "source": [
        "print(sympy.randprime(0, 100)) "
      ],
      "metadata": {
        "id": "ggq2-I-zzujz",
        "outputId": "11f6d39f-4cf0-4945-9fa3-3f8a2228fc0f",
        "colab": {
          "base_uri": "https://localhost:8080/"
        }
      },
      "execution_count": 14,
      "outputs": [
        {
          "output_type": "stream",
          "name": "stdout",
          "text": [
            "37\n"
          ]
        }
      ]
    },
    {
      "cell_type": "code",
      "source": [
        "print(sympy.randprime(0, 100)) "
      ],
      "metadata": {
        "id": "afhQ2H8gzxCM",
        "outputId": "90f8062e-85c0-4adb-8122-16085dc0b02d",
        "colab": {
          "base_uri": "https://localhost:8080/"
        }
      },
      "execution_count": 15,
      "outputs": [
        {
          "output_type": "stream",
          "name": "stdout",
          "text": [
            "71\n"
          ]
        }
      ]
    },
    {
      "cell_type": "code",
      "source": [
        "print(list(sympy.primerange(0, 100))) "
      ],
      "metadata": {
        "id": "BQdhrCenzr_D",
        "outputId": "642672ae-01f5-4178-f38a-df6fadab85cf",
        "colab": {
          "base_uri": "https://localhost:8080/"
        }
      },
      "execution_count": 16,
      "outputs": [
        {
          "output_type": "stream",
          "name": "stdout",
          "text": [
            "[2, 3, 5, 7, 11, 13, 17, 19, 23, 29, 31, 37, 41, 43, 47, 53, 59, 61, 67, 71, 73, 79, 83, 89, 97]\n"
          ]
        }
      ]
    }
  ]
}