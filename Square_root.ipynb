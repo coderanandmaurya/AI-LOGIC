{
  "nbformat": 4,
  "nbformat_minor": 0,
  "metadata": {
    "colab": {
      "name": "Square root.ipynb",
      "provenance": [],
      "authorship_tag": "ABX9TyP+2lasN48dpW4r8D8Sc32w",
      "include_colab_link": true
    },
    "kernelspec": {
      "name": "python3",
      "display_name": "Python 3"
    },
    "language_info": {
      "name": "python"
    }
  },
  "cells": [
    {
      "cell_type": "markdown",
      "metadata": {
        "id": "view-in-github",
        "colab_type": "text"
      },
      "source": [
        "<a href=\"https://colab.research.google.com/github/coderanandmaurya/AI-LOGIC/blob/main/Square_root.ipynb\" target=\"_parent\"><img src=\"https://colab.research.google.com/assets/colab-badge.svg\" alt=\"Open In Colab\"/></a>"
      ]
    },
    {
      "cell_type": "code",
      "metadata": {
        "id": "umz50s7Nc1qB"
      },
      "source": [
        "#pip install pyDatalog"
      ],
      "execution_count": 19,
      "outputs": []
    },
    {
      "cell_type": "code",
      "metadata": {
        "id": "LZd7DZODdRb2"
      },
      "source": [
        "from pyDatalog import pyDatalog\n",
        "from math import  sqrt"
      ],
      "execution_count": 20,
      "outputs": []
    },
    {
      "cell_type": "code",
      "metadata": {
        "colab": {
          "base_uri": "https://localhost:8080/"
        },
        "id": "9M0h0Nuodezu",
        "outputId": "62b45b1e-4487-45e1-980f-3a94e64a1e2c"
      },
      "source": [
        "pyDatalog.create_terms(\"squares,X,Y,sqrt\")\n",
        "squares(X,Y) <= ((X.in_(range(10))) & (Y== sqrt(X)) & (Y<3))"
      ],
      "execution_count": 21,
      "outputs": [
        {
          "output_type": "execute_result",
          "data": {
            "text/plain": [
              "squares(X,Y) <= _pyD_in(X,'['0', '1', '2', '3', '4"
            ]
          },
          "metadata": {},
          "execution_count": 21
        }
      ]
    },
    {
      "cell_type": "code",
      "metadata": {
        "colab": {
          "base_uri": "https://localhost:8080/"
        },
        "id": "7_DjHovPeD0F",
        "outputId": "123964af-853e-4e41-a787-80d5b86e7df0"
      },
      "source": [
        "print(squares(X,Y))"
      ],
      "execution_count": 22,
      "outputs": [
        {
          "output_type": "stream",
          "name": "stdout",
          "text": [
            "X | Y                 \n",
            "--|-------------------\n",
            "8 | 2.8284271247461903\n",
            "7 | 2.6457513110645907\n",
            "6 | 2.449489742783178 \n",
            "5 | 2.23606797749979  \n",
            "4 | 2.0               \n",
            "3 | 1.7320508075688772\n",
            "2 | 1.4142135623730951\n",
            "1 | 1.0               \n",
            "0 | 0.0               \n"
          ]
        }
      ]
    },
    {
      "cell_type": "code",
      "metadata": {
        "colab": {
          "base_uri": "https://localhost:8080/"
        },
        "id": "htypJvlieJ3F",
        "outputId": "58314608-a593-4493-9042-5cf765397f57"
      },
      "source": [
        "print(squares(X,2))"
      ],
      "execution_count": 23,
      "outputs": [
        {
          "output_type": "stream",
          "name": "stdout",
          "text": [
            "X\n",
            "-\n",
            "4\n"
          ]
        }
      ]
    },
    {
      "cell_type": "code",
      "metadata": {
        "colab": {
          "base_uri": "https://localhost:8080/"
        },
        "id": "tSnZ3uZEeNHU",
        "outputId": "6c6cfe5c-f53e-4c85-b850-07e081416c02"
      },
      "source": [
        "print(squares(3,Y))"
      ],
      "execution_count": 24,
      "outputs": [
        {
          "output_type": "stream",
          "name": "stdout",
          "text": [
            "Y                 \n",
            "------------------\n",
            "1.7320508075688772\n"
          ]
        }
      ]
    }
  ]
}