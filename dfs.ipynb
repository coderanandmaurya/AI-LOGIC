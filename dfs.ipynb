{
  "nbformat": 4,
  "nbformat_minor": 0,
  "metadata": {
    "colab": {
      "name": "dfs.ipynb",
      "provenance": [],
      "authorship_tag": "ABX9TyOigyKz9dL0k7ibtWGf7bUT",
      "include_colab_link": true
    },
    "kernelspec": {
      "name": "python3",
      "display_name": "Python 3"
    },
    "language_info": {
      "name": "python"
    }
  },
  "cells": [
    {
      "cell_type": "markdown",
      "metadata": {
        "id": "view-in-github",
        "colab_type": "text"
      },
      "source": [
        "<a href=\"https://colab.research.google.com/github/coderanandmaurya/AI-LOGIC/blob/main/dfs.ipynb\" target=\"_parent\"><img src=\"https://colab.research.google.com/assets/colab-badge.svg\" alt=\"Open In Colab\"/></a>"
      ]
    },
    {
      "cell_type": "code",
      "execution_count": 1,
      "metadata": {
        "colab": {
          "base_uri": "https://localhost:8080/"
        },
        "id": "Sh1YCjgx1wYo",
        "outputId": "b50a0524-ba06-420a-93d4-e7bca17a9264"
      },
      "outputs": [
        {
          "output_type": "stream",
          "name": "stdout",
          "text": [
            " Stack \n",
            "['A']\n",
            "A\n",
            " Visit B ['B', 'C']\n",
            " Visit C ['B', 'C']\n",
            " Stack \n",
            "['B', 'C']\n",
            "C\n",
            " Visit F ['F', 'G']\n",
            " Visit G ['F', 'G']\n",
            " Stack \n",
            "['B', 'F', 'G']\n",
            "G\n",
            " Stack \n",
            "['B', 'F']\n",
            "F\n",
            " Stack \n",
            "['B']\n",
            "B\n",
            " Visit D ['D', 'E']\n",
            " Visit E ['D', 'E']\n",
            " Stack \n",
            "['D', 'E']\n",
            "E\n",
            " Goal Reached E\n"
          ]
        }
      ],
      "source": [
        "mca_graph = {'A': ['B', 'C'], 'B':['D','E'], 'C':['F','G'], 'D':[], 'E':[],'F':[],'G':[]}\n",
        "def dfs(graph, start, goal):\n",
        "    visited = set()\n",
        "    stack = [start]\n",
        "\n",
        "    while stack:\n",
        "        print(\" Stack \")\n",
        "        print(stack)\n",
        "        node = stack.pop()\n",
        "        if node not in visited:\n",
        "            visited.add(node)\n",
        "            print(node)\n",
        "\n",
        "            if node == goal:\n",
        "                print(\" Goal Reached \"+node)\n",
        "                return\n",
        "            for n1 in graph[node]:\n",
        "                if n1 not in visited:\n",
        "                    stack.append(n1)\n",
        "                    print(\" Visit \" + n1,graph[node])\n",
        "\n",
        "dfs(mca_graph,'A','E')"
      ]
    }
  ]
}