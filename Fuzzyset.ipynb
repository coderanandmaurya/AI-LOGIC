{
  "nbformat": 4,
  "nbformat_minor": 0,
  "metadata": {
    "colab": {
      "name": "Fuzzyset.ipynb",
      "provenance": [],
      "authorship_tag": "ABX9TyOhNTpc7rhrfx6t4tJkLCbO",
      "include_colab_link": true
    },
    "kernelspec": {
      "name": "python3",
      "display_name": "Python 3"
    },
    "language_info": {
      "name": "python"
    }
  },
  "cells": [
    {
      "cell_type": "markdown",
      "metadata": {
        "id": "view-in-github",
        "colab_type": "text"
      },
      "source": [
        "<a href=\"https://colab.research.google.com/github/coderanandmaurya/AI-LOGIC/blob/main/Fuzzyset.ipynb\" target=\"_parent\"><img src=\"https://colab.research.google.com/assets/colab-badge.svg\" alt=\"Open In Colab\"/></a>"
      ]
    },
    {
      "cell_type": "code",
      "execution_count": 1,
      "metadata": {
        "colab": {
          "base_uri": "https://localhost:8080/"
        },
        "id": "xuxwtFMc_g8v",
        "outputId": "808b6903-7c4c-47df-8596-3d49872a350b"
      },
      "outputs": [
        {
          "output_type": "stream",
          "name": "stdout",
          "text": [
            "The First Fuzzy Set is : {'a': 0.2, 'b': 0.3, 'c': 0.6, 'd': 0.6}\n",
            "The Second Fuzzy Set is : {'a': 0.9, 'b': 0.9, 'c': 0.4, 'd': 0.5}\n",
            "Fuzzy Set Union is : {'a': 0.9, 'b': 0.9, 'c': 0.6, 'd': 0.6}\n"
          ]
        }
      ],
      "source": [
        "# Union of Two Fuzzy Sets\n",
        "A = dict()\n",
        "B = dict()\n",
        "Y = dict()\n",
        "  \n",
        "A = {\"a\": 0.2, \"b\": 0.3, \"c\": 0.6, \"d\": 0.6}\n",
        "B = {\"a\": 0.9, \"b\": 0.9, \"c\": 0.4, \"d\": 0.5}\n",
        "  \n",
        "print('The First Fuzzy Set is :', A)\n",
        "print('The Second Fuzzy Set is :', B)\n",
        "  \n",
        "  \n",
        "for A_key, B_key in zip(A, B):\n",
        "    A_value = A[A_key]\n",
        "    B_value = B[B_key]\n",
        "  \n",
        "    if A_value > B_value:\n",
        "        Y[A_key] = A_value\n",
        "    else:\n",
        "        Y[B_key] = B_value\n",
        "     \n",
        "print('Fuzzy Set Union is :', Y)"
      ]
    },
    {
      "cell_type": "code",
      "source": [
        "# Intersection of Two Fuzzy Sets\n",
        "A = dict()\n",
        "B = dict()\n",
        "Y = dict()\n",
        "  \n",
        "A = {\"a\": 0.2, \"b\": 0.3, \"c\": 0.6, \"d\": 0.6}\n",
        "B = {\"a\": 0.9, \"b\": 0.9, \"c\": 0.4, \"d\": 0.5}\n",
        "  \n",
        "print('The First Fuzzy Set is :', A)\n",
        "print('The Second Fuzzy Set is :', B)\n",
        "  \n",
        "  \n",
        "for A_key, B_key in zip(A, B):\n",
        "    A_value = A[A_key]\n",
        "    B_value = B[B_key]\n",
        "  \n",
        "    if A_value < B_value:\n",
        "        Y[A_key] = A_value\n",
        "    else:\n",
        "        Y[B_key] = B_value\n",
        "print('Fuzzy Set Intersection is :', Y)"
      ],
      "metadata": {
        "colab": {
          "base_uri": "https://localhost:8080/"
        },
        "id": "ih7jsR_lA6YZ",
        "outputId": "c0fcc267-7040-438b-f653-3d4ec44182e3"
      },
      "execution_count": 2,
      "outputs": [
        {
          "output_type": "stream",
          "name": "stdout",
          "text": [
            "The First Fuzzy Set is : {'a': 0.2, 'b': 0.3, 'c': 0.6, 'd': 0.6}\n",
            "The Second Fuzzy Set is : {'a': 0.9, 'b': 0.9, 'c': 0.4, 'd': 0.5}\n",
            "Fuzzy Set Intersection is : {'a': 0.2, 'b': 0.3, 'c': 0.4, 'd': 0.5}\n"
          ]
        }
      ]
    },
    {
      "cell_type": "code",
      "source": [
        "# Difference Between Two Fuzzy Sets\n",
        "A = dict()\n",
        "Y = dict()\n",
        "  \n",
        "A = {\"a\": 0.2, \"b\": 0.3, \"c\": 0.6, \"d\": 0.6}\n",
        "  \n",
        "print('The Fuzzy Set is :', A)\n",
        "  \n",
        "  \n",
        "for A_key in A:\n",
        "   Y[A_key]= 1-A[A_key]\n",
        "          \n",
        "print('Fuzzy Set Complement is :', Y)"
      ],
      "metadata": {
        "colab": {
          "base_uri": "https://localhost:8080/"
        },
        "id": "orAipsz0BFER",
        "outputId": "84ca6ea2-67b2-4054-a5c2-83a5b64dfcd8"
      },
      "execution_count": 3,
      "outputs": [
        {
          "output_type": "stream",
          "name": "stdout",
          "text": [
            "The Fuzzy Set is : {'a': 0.2, 'b': 0.3, 'c': 0.6, 'd': 0.6}\n",
            "Fuzzy Set Complement is : {'a': 0.8, 'b': 0.7, 'c': 0.4, 'd': 0.4}\n"
          ]
        }
      ]
    },
    {
      "cell_type": "code",
      "source": [
        "# Difference Between Two Fuzzy Sets\n",
        "A = dict()\n",
        "B = dict()\n",
        "Y = dict()\n",
        "  \n",
        "A = {\"a\": 0.2, \"b\": 0.3, \"c\": 0.6, \"d\": 0.6}\n",
        "B = {\"a\": 0.9, \"b\": 0.9, \"c\": 0.4, \"d\": 0.5}\n",
        "  \n",
        "print('The First Fuzzy Set is :', A)\n",
        "print('The Second Fuzzy Set is :', B)\n",
        "    \n",
        "for A_key, B_key in zip(A, B):\n",
        "    A_value = A[A_key]\n",
        "    B_value = B[B_key]\n",
        "    B_value = 1 - B_value\n",
        "  \n",
        "    if A_value < B_value:\n",
        "        Y[A_key] = A_value\n",
        "    else:\n",
        "        Y[B_key] = B_value\n",
        "          \n",
        "print('Fuzzy Set Difference is :', Y)"
      ],
      "metadata": {
        "colab": {
          "base_uri": "https://localhost:8080/"
        },
        "id": "TeDYtv2SBR1B",
        "outputId": "1a3d06e6-328d-45af-8c22-0fa1965f4be3"
      },
      "execution_count": 4,
      "outputs": [
        {
          "output_type": "stream",
          "name": "stdout",
          "text": [
            "The First Fuzzy Set is : {'a': 0.2, 'b': 0.3, 'c': 0.6, 'd': 0.6}\n",
            "The Second Fuzzy Set is : {'a': 0.9, 'b': 0.9, 'c': 0.4, 'd': 0.5}\n",
            "Fuzzy Set Difference is : {'a': 0.09999999999999998, 'b': 0.09999999999999998, 'c': 0.6, 'd': 0.5}\n"
          ]
        }
      ]
    },
    {
      "cell_type": "code",
      "source": [
        "pip install scikit-fuzzy"
      ],
      "metadata": {
        "colab": {
          "base_uri": "https://localhost:8080/"
        },
        "id": "Br7-yMeqMiVw",
        "outputId": "46d33f21-9a09-4d97-da81-1aea48c28fb3"
      },
      "execution_count": 24,
      "outputs": [
        {
          "output_type": "stream",
          "name": "stdout",
          "text": [
            "Requirement already satisfied: scikit-fuzzy in /usr/local/lib/python3.7/dist-packages (0.4.2)\n",
            "Requirement already satisfied: numpy>=1.6.0 in /usr/local/lib/python3.7/dist-packages (from scikit-fuzzy) (1.19.5)\n",
            "Requirement already satisfied: networkx>=1.9.0 in /usr/local/lib/python3.7/dist-packages (from scikit-fuzzy) (2.6.3)\n",
            "Requirement already satisfied: scipy>=0.9.0 in /usr/local/lib/python3.7/dist-packages (from scikit-fuzzy) (1.4.1)\n"
          ]
        }
      ]
    },
    {
      "cell_type": "code",
      "source": [
        "\"\"\"import skfuzzy as fuzz\n",
        "def convert_dict(A,B):\n",
        "    A_x,A_mfx,B_x,B_mfx = [],[],[],[]\n",
        "    for key in A:\n",
        "        A_x.append(key)\n",
        "        A_mfx.append(A[key])\n",
        "    for key in B:\n",
        "        B_x.append(key)\n",
        "        B_mfx.append(B[key])\n",
        "    return np.array(A_x),np.array(A_mfx),np.array(B_x),np.array(B_mfx)\n",
        "def main(): \n",
        "   \n",
        "    while True:\n",
        "        print(\"Menu Driven Program\")\n",
        "        print(\"1.Cartesian product\")\n",
        "        print(\"2.Exit\")\n",
        "        choice=int(input(\"Enter your choice:\"))\n",
        "        if choice==1:\n",
        "            A_x, A_mfx, B_x, B_mfx=convert_dict(d,d1)\n",
        "            cartesian_product = fuzz.cartprod(A_mfx, B_mfx)\n",
        "            print(\"\\nCartesian product:\", cartesian_product, sep=\"\\n\")\n",
        "        \n",
        "        elif choice==2:\n",
        "            break\n",
        "        else:\n",
        "            print(\"Wrong choice\")\n",
        "  \n",
        "if __name__ == \"__main__\": \n",
        "    print(\"----------------------\"+\n",
        "        \"FUZZY SET OPERATIONS\"+ \n",
        "        \"----------------------\")\n",
        "    n = int(input(\"enter  no.of elements of set 1:\"))\n",
        "    d = {}\n",
        "    for i in range(n):\n",
        "        keys = input() \n",
        "        values = float(input())\n",
        "        d[keys] = values\n",
        "    n1 = int(input(\"enter  no.of elements of set 2:\"))\n",
        "    d1 = {}\n",
        "    for i in range(n1):\n",
        "        keys1 = input() \n",
        "        values1 = float(input())\n",
        "        d1[keys1] = values1\n",
        "  \n",
        "main() \"\"\""
      ],
      "metadata": {
        "colab": {
          "base_uri": "https://localhost:8080/",
          "height": 128
        },
        "id": "Daw07grJMZ2C",
        "outputId": "fc4c5845-6c16-418b-9a42-5b700cbcb832"
      },
      "execution_count": 31,
      "outputs": [
        {
          "output_type": "execute_result",
          "data": {
            "application/vnd.google.colaboratory.intrinsic+json": {
              "type": "string"
            },
            "text/plain": [
              "'import skfuzzy as fuzz\\ndef convert_dict(A,B):\\n    A_x,A_mfx,B_x,B_mfx = [],[],[],[]\\n    for key in A:\\n        A_x.append(key)\\n        A_mfx.append(A[key])\\n    for key in B:\\n        B_x.append(key)\\n        B_mfx.append(B[key])\\n    return np.array(A_x),np.array(A_mfx),np.array(B_x),np.array(B_mfx)\\ndef main(): \\n   \\n    while True:\\n        print(\"Menu Driven Program\")\\n        print(\"1.Cartesian product\")\\n        print(\"2.Exit\")\\n        choice=int(input(\"Enter your choice:\"))\\n        if choice==1:\\n            A_x, A_mfx, B_x, B_mfx=convert_dict(d,d1)\\n            cartesian_product = fuzz.cartprod(A_mfx, B_mfx)\\n            print(\"\\nCartesian product:\", cartesian_product, sep=\"\\n\")\\n        \\n        elif choice==2:\\n            break\\n        else:\\n            print(\"Wrong choice\")\\n  \\nif __name__ == \"__main__\": \\n    print(\"----------------------\"+\\n        \"FUZZY SET OPERATIONS\"+ \\n        \"----------------------\")\\n    n = int(input(\"enter  no.of elements of set 1:\"))\\n    d = {}\\n    for i in range(n):\\n        keys = input() \\n        values = float(input())\\n        d[keys] = values\\n    n1 = int(input(\"enter  no.of elements of set 2:\"))\\n    d1 = {}\\n    for i in range(n1):\\n        keys1 = input() \\n        values1 = float(input())\\n        d1[keys1] = values1\\n  \\nmain() '"
            ]
          },
          "metadata": {},
          "execution_count": 31
        }
      ]
    },
    {
      "cell_type": "code",
      "source": [
        "import numpy as np\n",
        "\n",
        "# Max-Min Composition given by Zadeh\n",
        "def maxMin(x, y):\n",
        "    z = []\n",
        "    for x1 in x:\n",
        "        for y1 in y.T:\n",
        "            z.append(max(np.minimum(x1, y1)))\n",
        "    return np.array(z).reshape((x.shape[0], y.shape[1]))\n",
        "\n",
        "# Max-Product Composition given by Rosenfeld\n",
        "def maxProduct(x, y):\n",
        "    z = []\n",
        "    for x1 in x:\n",
        "        for y1 in y.T:\n",
        "            z.append(max(np.multiply(x1, y1)))\n",
        "    return np.array(z).reshape((x.shape[0], y.shape[1]))\n",
        "\n",
        "# 3 arrays for the example\n",
        "r1 = np.array([[1, 0, .7], [.3, .2, 0], [0, .5, 1]])\n",
        "r2 = np.array([[.6, .6, 0], [0, .6, .1], [0, .1, 0]])\n",
        "r3 = np.array([[1, 0, .7], [0, 1, 0], [.7, 0, 1]])\n",
        "\n",
        "print(\"R1oR2 => Max-Min : \\n\" + str(maxMin(r1, r2)) + \"\\n\")\n",
        "print(\"R1oR3 => Max-Min : \\n\" + str(maxMin(r1, r3)) + \"\\n\")\n",
        "print(\"R1oR3 => Max-Product : \\n\" + str(maxProduct(r1, r3)) + \"\\n\\n\")\n",
        "\n",
        "print(\"R1oR2oR3 => Max-Min : \\n\" + str(maxMin(r1, maxMin(r2, r3))) + \"\\n\")\n",
        "print(\"R1oR2oR3 => Max-Product : \\n\" + str(maxProduct(r1, maxProduct(r2, r3))) + \"\\n\\n\")"
      ],
      "metadata": {
        "colab": {
          "base_uri": "https://localhost:8080/"
        },
        "id": "oKqkci52PTSR",
        "outputId": "8623a99a-42c0-494c-ddc0-d882b7b24030"
      },
      "execution_count": 30,
      "outputs": [
        {
          "output_type": "stream",
          "name": "stdout",
          "text": [
            "R1oR2 => Max-Min : \n",
            "[[0.6 0.6 0. ]\n",
            " [0.3 0.3 0.1]\n",
            " [0.  0.5 0.1]]\n",
            "\n",
            "R1oR3 => Max-Min : \n",
            "[[1.  0.  0.7]\n",
            " [0.3 0.2 0.3]\n",
            " [0.7 0.5 1. ]]\n",
            "\n",
            "R1oR3 => Max-Product : \n",
            "[[1.   0.   0.7 ]\n",
            " [0.3  0.2  0.21]\n",
            " [0.7  0.5  1.  ]]\n",
            "\n",
            "\n",
            "R1oR2oR3 => Max-Min : \n",
            "[[0.6 0.6 0.6]\n",
            " [0.3 0.3 0.3]\n",
            " [0.1 0.5 0.1]]\n",
            "\n",
            "R1oR2oR3 => Max-Product : \n",
            "[[0.6   0.6   0.42 ]\n",
            " [0.18  0.18  0.126]\n",
            " [0.035 0.3   0.05 ]]\n",
            "\n",
            "\n"
          ]
        }
      ]
    },
    {
      "cell_type": "code",
      "source": [
        ""
      ],
      "metadata": {
        "id": "fVk-uO_-Pidt"
      },
      "execution_count": null,
      "outputs": []
    }
  ]
}